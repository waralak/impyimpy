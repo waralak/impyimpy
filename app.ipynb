{
 "cells": [
  {
   "cell_type": "code",
   "execution_count": 1,
   "metadata": {},
   "outputs": [
    {
     "ename": "ValueError",
     "evalue": "`token` or `bot` must be passed",
     "output_type": "error",
     "traceback": [
      "\u001b[1;31m---------------------------------------------------------------------------\u001b[0m",
      "\u001b[1;31mValueError\u001b[0m                                Traceback (most recent call last)",
      "\u001b[1;32m<ipython-input-1-99345be208d0>\u001b[0m in \u001b[0;36m<module>\u001b[1;34m\u001b[0m\n\u001b[0;32m     53\u001b[0m \u001b[1;31m#start application with main function\u001b[0m\u001b[1;33m\u001b[0m\u001b[1;33m\u001b[0m\u001b[1;33m\u001b[0m\u001b[0m\n\u001b[0;32m     54\u001b[0m \u001b[1;32mif\u001b[0m \u001b[0m__name__\u001b[0m \u001b[1;33m==\u001b[0m \u001b[1;34m'__main__'\u001b[0m\u001b[1;33m:\u001b[0m\u001b[1;33m\u001b[0m\u001b[1;33m\u001b[0m\u001b[0m\n\u001b[1;32m---> 55\u001b[1;33m     \u001b[0mmain\u001b[0m\u001b[1;33m(\u001b[0m\u001b[1;33m)\u001b[0m\u001b[1;33m\u001b[0m\u001b[1;33m\u001b[0m\u001b[0m\n\u001b[0m\u001b[0;32m     56\u001b[0m \u001b[1;33m\u001b[0m\u001b[0m\n",
      "\u001b[1;32m<ipython-input-1-99345be208d0>\u001b[0m in \u001b[0;36mmain\u001b[1;34m()\u001b[0m\n\u001b[0;32m     31\u001b[0m \u001b[1;33m\u001b[0m\u001b[0m\n\u001b[0;32m     32\u001b[0m     \u001b[1;31m#to get the updates from bot\u001b[0m\u001b[1;33m\u001b[0m\u001b[1;33m\u001b[0m\u001b[1;33m\u001b[0m\u001b[0m\n\u001b[1;32m---> 33\u001b[1;33m     \u001b[0mupdater\u001b[0m \u001b[1;33m=\u001b[0m \u001b[0mUpdater\u001b[0m\u001b[1;33m(\u001b[0m\u001b[0mtoken\u001b[0m\u001b[1;33m=\u001b[0m\u001b[0mTOKEN\u001b[0m\u001b[1;33m,\u001b[0m \u001b[0muse_context\u001b[0m\u001b[1;33m=\u001b[0m\u001b[1;32mTrue\u001b[0m\u001b[1;33m)\u001b[0m\u001b[1;33m\u001b[0m\u001b[1;33m\u001b[0m\u001b[0m\n\u001b[0m\u001b[0;32m     34\u001b[0m \u001b[1;33m\u001b[0m\u001b[0m\n\u001b[0;32m     35\u001b[0m     \u001b[1;31m#to dispatch the updates to respective handlers\u001b[0m\u001b[1;33m\u001b[0m\u001b[1;33m\u001b[0m\u001b[1;33m\u001b[0m\u001b[0m\n",
      "\u001b[1;32m~\\anaconda3\\lib\\site-packages\\telegram\\ext\\updater.py\u001b[0m in \u001b[0;36m__init__\u001b[1;34m(self, token, base_url, workers, bot, private_key, private_key_password, user_sig_handler, request_kwargs, persistence, defaults, use_context, dispatcher, base_file_url, arbitrary_callback_data, context_types)\u001b[0m\n\u001b[0;32m    235\u001b[0m         \u001b[1;32mif\u001b[0m \u001b[0mdispatcher\u001b[0m \u001b[1;32mis\u001b[0m \u001b[1;32mNone\u001b[0m\u001b[1;33m:\u001b[0m\u001b[1;33m\u001b[0m\u001b[1;33m\u001b[0m\u001b[0m\n\u001b[0;32m    236\u001b[0m             \u001b[1;32mif\u001b[0m \u001b[1;33m(\u001b[0m\u001b[0mtoken\u001b[0m \u001b[1;32mis\u001b[0m \u001b[1;32mNone\u001b[0m\u001b[1;33m)\u001b[0m \u001b[1;32mand\u001b[0m \u001b[1;33m(\u001b[0m\u001b[0mbot\u001b[0m \u001b[1;32mis\u001b[0m \u001b[1;32mNone\u001b[0m\u001b[1;33m)\u001b[0m\u001b[1;33m:\u001b[0m\u001b[1;33m\u001b[0m\u001b[1;33m\u001b[0m\u001b[0m\n\u001b[1;32m--> 237\u001b[1;33m                 \u001b[1;32mraise\u001b[0m \u001b[0mValueError\u001b[0m\u001b[1;33m(\u001b[0m\u001b[1;34m'`token` or `bot` must be passed'\u001b[0m\u001b[1;33m)\u001b[0m\u001b[1;33m\u001b[0m\u001b[1;33m\u001b[0m\u001b[0m\n\u001b[0m\u001b[0;32m    238\u001b[0m             \u001b[1;32mif\u001b[0m \u001b[1;33m(\u001b[0m\u001b[0mtoken\u001b[0m \u001b[1;32mis\u001b[0m \u001b[1;32mnot\u001b[0m \u001b[1;32mNone\u001b[0m\u001b[1;33m)\u001b[0m \u001b[1;32mand\u001b[0m \u001b[1;33m(\u001b[0m\u001b[0mbot\u001b[0m \u001b[1;32mis\u001b[0m \u001b[1;32mnot\u001b[0m \u001b[1;32mNone\u001b[0m\u001b[1;33m)\u001b[0m\u001b[1;33m:\u001b[0m\u001b[1;33m\u001b[0m\u001b[1;33m\u001b[0m\u001b[0m\n\u001b[0;32m    239\u001b[0m                 \u001b[1;32mraise\u001b[0m \u001b[0mValueError\u001b[0m\u001b[1;33m(\u001b[0m\u001b[1;34m'`token` and `bot` are mutually exclusive'\u001b[0m\u001b[1;33m)\u001b[0m\u001b[1;33m\u001b[0m\u001b[1;33m\u001b[0m\u001b[0m\n",
      "\u001b[1;31mValueError\u001b[0m: `token` or `bot` must be passed"
     ]
    }
   ],
   "source": [
    "from telegram.ext import Updater\n",
    "from telegram.ext import  CommandHandler, MessageHandler, Filters\n",
    "import  os\n",
    "import json\n",
    "\n",
    "#telegram token\n",
    "TOKEN = os.environ.get(\"TELEGRAM_ID\")\n",
    "\n",
    "#commandhandler for start command\n",
    "def start(update, context):\n",
    "    yourname = update.message.chat.first_name\n",
    "\n",
    "    msg = \"Hi \"+yourname+\"! Welcome to impyimpy bot.\"\n",
    "    context.bot.send_message(update.message.chat.id, msg)\n",
    "\n",
    "#Message handler for texts only\n",
    "def mimic(update, context):\n",
    "    context.bot.send_message(update.message.chat.id, update.message.text)\n",
    "\n",
    "    \n",
    "#commandhandler for details command\n",
    "def details(update, context):\n",
    "    context.bot.send_message(update.message.chat.id, str(update))\n",
    "\n",
    "#Error handler\n",
    "def error(update, context):\n",
    "    context.bot.send_message(update.message.chat.id, \"Oops! Error encountered!\")\n",
    "\n",
    "#main logic\n",
    "def main():\n",
    "    \n",
    "    #to get the updates from bot\n",
    "    updater = Updater(token=TOKEN, use_context=True)\n",
    "    \n",
    "    #to dispatch the updates to respective handlers\n",
    "    dp = updater.dispatcher\n",
    "    \n",
    "    #handlers\n",
    "    dp.add_handler(CommandHandler(\"start\",start))\n",
    "    dp.add_handler(CommandHandler(\"details\", details))\n",
    "\n",
    "    dp.add_handler(MessageHandler(Filters.text, mimic))\n",
    "\n",
    "\n",
    "    dp.add_error_handler(error)\n",
    "    \n",
    "    #to start webhook\n",
    "    updater.start_webhook(listen=\"0.0.0.0\",port=os.environ.get(\"PORT\",443),\n",
    "                          url_path=TOKEN,\n",
    "                          webhook_url=\"https://impyimpy.herokuapp.com/\"+TOKEN)\n",
    "    updater.idle()\n",
    "\n",
    "#start application with main function\n",
    "if __name__ == '__main__':\n",
    "    main()\n",
    "\n"
   ]
  },
  {
   "cell_type": "code",
   "execution_count": null,
   "metadata": {},
   "outputs": [],
   "source": []
  }
 ],
 "metadata": {
  "colab": {
   "provenance": []
  },
  "kernelspec": {
   "display_name": "Python 3",
   "language": "python",
   "name": "python3"
  },
  "language_info": {
   "codemirror_mode": {
    "name": "ipython",
    "version": 3
   },
   "file_extension": ".py",
   "mimetype": "text/x-python",
   "name": "python",
   "nbconvert_exporter": "python",
   "pygments_lexer": "ipython3",
   "version": "3.8.8"
  }
 },
 "nbformat": 4,
 "nbformat_minor": 1
}
